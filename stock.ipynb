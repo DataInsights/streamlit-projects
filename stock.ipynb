{
 "cells": [
  {
   "cell_type": "code",
   "execution_count": null,
   "id": "f7de4406-48ac-47be-9f4e-c5a7ead22882",
   "metadata": {},
   "outputs": [],
   "source": [
    "# !pip install streamlit\n",
    "# !pip install yfinance\n",
    "# !pip install pandas\n",
    "\n",
    "import streamlit as st\n",
    "\"\"\"\n",
    "# Python and Streamlit Simple Apps\n",
    "\"\"\"\n",
    "\n",
    "import yfinance as yf\n",
    "import pandas as pd\n",
    "\n",
    "\n",
    "\"\"\"\n",
    "##  `GOOGL` stock data from 2010 to 2020\n",
    "\n",
    "\"\"\"\n",
    "tickerSymbol = 'GOOGL'\n",
    "\n",
    "# Now, extract data from the ticker and store it in an object named `tickerData`.\n",
    "tickerData = yf.Ticker(tickerSymbol)\n",
    "\n",
    "\n",
    "# Get prices for for the past ten years.\n",
    "tickerDf = tickerData.history(period='1d', start='2010-5-31', end='2020-1-31')\n",
    "\n",
    "\"\"\"\n",
    "![](img/stock.png)\n",
    "\"\"\"\n",
    "\n",
    "tickerDf.head(10).to_csv('stockhead.csv')\n",
    "stockhead = pd.read_csv('stockhead.csv')\n",
    "stockhead\n",
    "\n",
    "\"\"\"\n",
    "### Line charts for `Open`\n",
    "\"\"\"\n",
    "st.line_chart(tickerDf.Open)\n",
    "\n",
    "\"\"\"\n",
    "### Line charts for `Close`\n",
    "\"\"\"\n",
    "st.line_chart(tickerDf.Close)\n",
    "\n",
    "\"\"\"\n",
    "### Line charts for `Volume`\n",
    "\"\"\"\n",
    "st.line_chart(tickerDf.Volume)\n",
    "\n",
    "\n",
    "\"\"\"\n",
    "### Line charts for Four Features\n",
    "\"\"\"\n",
    "st.line_chart(data = tickerDf.iloc[:, 0:4])\n",
    "\n",
    "\n",
    "!streamlit run stock.py\n"
   ]
  },
  {
   "cell_type": "code",
   "execution_count": null,
   "id": "cbd36b9f-a25f-4911-ac27-9e6d16b11ab4",
   "metadata": {},
   "outputs": [],
   "source": []
  }
 ],
 "metadata": {
  "kernelspec": {
   "display_name": "Python 3 (ipykernel)",
   "language": "python",
   "name": "python3"
  },
  "language_info": {
   "codemirror_mode": {
    "name": "ipython",
    "version": 3
   },
   "file_extension": ".py",
   "mimetype": "text/x-python",
   "name": "python",
   "nbconvert_exporter": "python",
   "pygments_lexer": "ipython3",
   "version": "3.9.4"
  }
 },
 "nbformat": 4,
 "nbformat_minor": 5
}
